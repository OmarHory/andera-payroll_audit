{
 "cells": [
  {
   "cell_type": "code",
   "execution_count": 7,
   "id": "6150b919",
   "metadata": {},
   "outputs": [],
   "source": [
    "from langgraph.graph import StateGraph, START, END\n",
    "\n",
    "import os\n",
    "from langchain.chat_models.base import init_chat_model\n",
    "from states import State\n",
    "from langgraph.checkpoint.redis import RedisSaver\n",
    "from states import *\n",
    "from prompts import *\n",
    "import dotenv\n",
    "dotenv.load_dotenv()\n",
    "\n",
    "from parsers import parse_directory_files, parse_pdf, parse_txt, parse_excel, parse_csv, parse_image_with_vision\n",
    "\n",
    "from langchain_core.messages import SystemMessage, HumanMessage, AIMessage, ToolMessage\n"
   ]
  },
  {
   "cell_type": "code",
   "execution_count": null,
   "id": "4f3951ad",
   "metadata": {},
   "outputs": [
    {
     "name": "stdout",
     "output_type": "stream",
     "text": [
      "22:19:49 httpx INFO   HTTP Request: POST https://api.openai.com/v1/responses \"HTTP/1.1 200 OK\"\n"
     ]
    }
   ],
   "source": [
    "# h = parse_image_with_vision(\"/Users/omar/work/andrea/data/employee_payroll.png\")"
   ]
  },
  {
   "cell_type": "code",
   "execution_count": null,
   "id": "9e798e54",
   "metadata": {},
   "outputs": [
    {
     "name": "stdout",
     "output_type": "stream",
     "text": [
      "22:28:00 httpx INFO   HTTP Request: POST https://api.openai.com/v1/responses \"HTTP/1.1 200 OK\"\n"
     ]
    }
   ],
   "source": [
    "from langchain_openai import ChatOpenAI\n",
    "\n",
    "model = ChatOpenAI(model=\"o4-mini\", reasoning_effort=\"high\")\n",
    "# state = State(data_path=\"/Users/omar/work/andrea/data\")\n",
    "\n",
    "files = parse_directory_files(\"/Users/omar/work/andrea/data_temp\")\n",
    "\n",
    "\n",
    "\n",
    "    "
   ]
  },
  {
   "cell_type": "code",
   "execution_count": 12,
   "id": "bc8a2981",
   "metadata": {},
   "outputs": [
    {
     "name": "stdout",
     "output_type": "stream",
     "text": [
      "22:31:59 httpx INFO   HTTP Request: POST https://api.openai.com/v1/responses \"HTTP/1.1 200 OK\"\n",
      "22:32:13 httpx INFO   HTTP Request: POST https://api.openai.com/v1/responses \"HTTP/1.1 200 OK\"\n",
      "22:32:20 httpx INFO   HTTP Request: POST https://api.openai.com/v1/responses \"HTTP/1.1 200 OK\"\n",
      "22:32:21 httpx INFO   HTTP Request: POST https://api.openai.com/v1/responses \"HTTP/1.1 200 OK\"\n",
      "22:32:27 httpx INFO   HTTP Request: POST https://api.openai.com/v1/responses \"HTTP/1.1 200 OK\"\n",
      "22:32:36 httpx INFO   HTTP Request: POST https://api.openai.com/v1/chat/completions \"HTTP/1.1 200 OK\"\n",
      "name='employee_payroll.png' path='employee_payroll.png' purpose=\"Document ACME Inc.'s payroll register for the bi-weekly pay period 7/20/2024 – 08/02/2024, detailing employee gross pay, taxable amounts, net pay, and payment status.\" possible_use_cases=['Payroll processing and verification', 'Financial auditing and reporting', 'Tax filing and compliance', 'Employee compensation analysis', 'Record keeping and archival']\n",
      "----------------------------------------------------------------------------------------------------\n",
      "22:32:44 httpx INFO   HTTP Request: POST https://api.openai.com/v1/chat/completions \"HTTP/1.1 200 OK\"\n",
      "name='Payroll reconcilation DEMO.csv' path='Payroll reconcilation DEMO.csv' purpose='Provides a reconciliation of a specific payroll settlement run, detailing payment counts, outbound/inbound totals, register totals, and variances to ensure payroll accuracy and compliance.' possible_use_cases=['Audit and compliance review of payroll disbursements', 'Financial reporting and variance analysis', 'Reconciliation between payroll systems and accounting ledgers', 'Investigation of discrepancies in payroll runs', 'Supporting internal or external payroll audits']\n",
      "----------------------------------------------------------------------------------------------------\n",
      "22:32:52 httpx INFO   HTTP Request: POST https://api.openai.com/v1/chat/completions \"HTTP/1.1 200 OK\"\n",
      "name='adp_payroll.png' path='adp_payroll.png' purpose='To confirm and detail the application of a recent wire transfer to the recipient’s payroll account, including payroll adjustment information and trust arrangement for money transmission services.' possible_use_cases=['Wire transfer confirmation', 'Payroll reconciliation', 'Financial auditing', 'Account transaction verification', 'Payroll services trust reference', 'Client inquiries regarding wire confirmations']\n",
      "----------------------------------------------------------------------------------------------------\n",
      "22:32:57 httpx INFO   HTTP Request: POST https://api.openai.com/v1/chat/completions \"HTTP/1.1 200 OK\"\n",
      "name='employee_payroll_2.png' path='employee_payroll_2.png' purpose='Payroll register from ACME Inc. summarizing gross pay, taxable wages, and net pay for employees in specified pay groups.' possible_use_cases=['Review and audit employee payroll', 'Generate internal payroll reports', 'Support tax reporting and compliance', 'Reconcile payroll expenses for financial analysis']\n",
      "----------------------------------------------------------------------------------------------------\n",
      "22:33:04 httpx INFO   HTTP Request: POST https://api.openai.com/v1/chat/completions \"HTTP/1.1 200 OK\"\n",
      "name='bank_info.png' path='/files/bank_info.png' purpose='Image capturing a bank wire transfer record from Deutsche Bank Trust to ADP Client Trust, including date, amount, sender/beneficiary details, and reference numbers for record-keeping.' possible_use_cases=['Financial transaction verification', 'Accounting reconciliation', 'Audit documentation', 'Compliance and regulatory reporting', 'Client account statement reference']\n",
      "----------------------------------------------------------------------------------------------------\n",
      "22:33:09 httpx INFO   HTTP Request: POST https://api.openai.com/v1/chat/completions \"HTTP/1.1 200 OK\"\n",
      "name='Payroll reconcilation DEMO 3.csv' path='./Payroll reconcilation DEMO 3.csv' purpose='This CSV file captures payroll settlement run details for ACME Inc., including run identifiers, status, dates, counts, and currency totals for reconciliation purposes.' possible_use_cases=['Summarizing settlement run transactions', 'Auditing and reconciling payroll payments', 'Generating reports on outbound and inbound totals', 'Monitoring settlement run status and counts', 'Supporting currency-based financial analysis']\n",
      "----------------------------------------------------------------------------------------------------\n",
      "22:33:15 httpx INFO   HTTP Request: POST https://api.openai.com/v1/chat/completions \"HTTP/1.1 200 OK\"\n",
      "name='Payroll reconcilation DEMO 2.csv' path='Payroll reconcilation DEMO 2.csv' purpose='Provides detailed payroll reconciliation data for individual employees, including gross pay, net pay, payment status, and special payment types, to support payroll verification and summary calculations.' possible_use_cases=['Reconcile payroll calculations against disbursements', 'Audit on-demand and replacement payments', 'Generate summary reports of gross vs. net pay', 'Monitor payroll processing status for compliance', 'Support financial close and accounting entries']\n",
      "----------------------------------------------------------------------------------------------------\n",
      "22:33:25 httpx INFO   HTTP Request: POST https://api.openai.com/v1/chat/completions \"HTTP/1.1 200 OK\"\n",
      "name='settlement_runs.png' path='settlement_runs.png' purpose='Contains settlement run details for ACME Inc. between 8/6/2024 and 8/8/2024, including run IDs, completion status, express settlement indicator, transaction types, counts, amounts, and currency.' possible_use_cases=['Reconcile settlement runs in accounting systems', 'Audit and verify settlement details for ACME Inc.', 'Generate financial reports on settlement performance', 'Track express settlement status and flow', 'Validate transaction amounts and currency consistency']\n",
      "----------------------------------------------------------------------------------------------------\n"
     ]
    }
   ],
   "source": [
    "files = parse_directory_files(\"/Users/omar/work/andrea/data\")\n",
    "l = []\n",
    "for file in files:\n",
    "    messages = [\n",
    "        SystemMessage(content=METADATA_EXTRACTOR_PROMPT),\n",
    "        HumanMessage(content=\"File Name: \" + file['file_name'] + \"\\nFile Content: \" + file['content'])\n",
    "    ]\n",
    "\n",
    "\n",
    "    response = model.with_structured_output(DocMetadata).invoke(messages)\n",
    "    l.append(response)\n",
    "    print(response)\n",
    "    print(\"-\"*100)"
   ]
  },
  {
   "cell_type": "code",
   "execution_count": null,
   "id": "0a407cd2",
   "metadata": {},
   "outputs": [],
   "source": [
    "from langchain_openai import ChatOpenAI\n",
    "\n",
    "model = ChatOpenAI(model=\"o4-mini\", reasoning_effort=\"high\")\n",
    "\n",
    "\n",
    "def metadata_extractor(state: State):\n",
    "    files = parse_directory_files(state['data'])\n",
    "\n",
    "    for file in files:\n",
    "\n",
    "        messages = [\n",
    "            SystemMessage(content=METADATA_EXTRACTOR_PROMPT),\n",
    "            HumanMessage(content=\"File Name: \" + file['file_name'] + \"\\nFile Content: \" + file['content'])\n",
    "        ]\n",
    "\n",
    "\n",
    "    response = model.with_structured_output(DocMetadata).invoke(messages)\n",
    "    state['doc_metadata'].append(response)\n",
    "    return state\n",
    "\n",
    "def document_classifier(state: State):\n",
    "    return state\n",
    "\n",
    "def task_manager(state: State):\n",
    "    return state\n",
    "\n",
    "def doc_selector_agent(state: State):\n",
    "    return state\n",
    "\n",
    "def execution_agent(state: State):\n",
    "    return state\n",
    "\n",
    "def reflector(state: State):\n",
    "    return state\n",
    "\n",
    "def reporter(state: State):\n",
    "    return state\n",
    "\n",
    "def should_continue(state: State):\n",
    "    return state\n"
   ]
  },
  {
   "cell_type": "code",
   "execution_count": null,
   "id": "ad9fa22f",
   "metadata": {},
   "outputs": [],
   "source": [
    "\n",
    "\n",
    "builder = StateGraph(State)\n",
    "builder.add_node(\"metadata_extractor\", metadata_extractor)\n",
    "builder.add_node(\"document_classifier\", document_classifier)\n",
    "builder.add_node(\"task_manager\", task_manager)\n",
    "builder.add_node(\"doc_selector_agent\", doc_selector_agent)\n",
    "builder.add_node(\"execution_agent\", execution_agent)\n",
    "builder.add_node(\"reflector\", reflector)\n",
    "builder.add_node(\"reporter\", reporter)\n",
    "\n",
    "builder.add_edge(START, \"metadata_extractor\")\n",
    "builder.add_edge(\"metadata_extractor\", \"document_classifier\")\n",
    "builder.add_edge(\"document_classifier\", \"task_manager\")\n",
    "builder.add_edge(\"task_manager\", \"doc_selector_agent\")\n",
    "builder.add_edge(\"doc_selector_agent\", \"execution_agent\")\n",
    "builder.add_edge(\"execution_agent\", \"reflector\")\n",
    "\n",
    "builder.add_conditional_edges(\"reflector\",should_continue, {\"pass\": \"reporter\",\n",
    "    \"fail\": \"execution_agent\"})\n",
    "\n",
    "# builder.add_edge(\"reflector\", \"reporter\")\n",
    "builder.add_edge(\"reporter\", END)\n",
    "\n",
    "REDIS_URI = \"redis://localhost:6379/0\"\n",
    "with RedisSaver.from_conn_string(REDIS_URI) as checkpointer:\n",
    "    checkpointer.setup()\n",
    "    \n",
    "    graph = builder.compile(checkpointer=checkpointer)\n"
   ]
  },
  {
   "cell_type": "code",
   "execution_count": null,
   "id": "74fce039",
   "metadata": {},
   "outputs": [],
   "source": []
  },
  {
   "cell_type": "code",
   "execution_count": null,
   "id": "e52d6701",
   "metadata": {},
   "outputs": [],
   "source": []
  }
 ],
 "metadata": {
  "kernelspec": {
   "display_name": ".venv",
   "language": "python",
   "name": "python3"
  },
  "language_info": {
   "codemirror_mode": {
    "name": "ipython",
    "version": 3
   },
   "file_extension": ".py",
   "mimetype": "text/x-python",
   "name": "python",
   "nbconvert_exporter": "python",
   "pygments_lexer": "ipython3",
   "version": "3.12.9"
  }
 },
 "nbformat": 4,
 "nbformat_minor": 5
}
